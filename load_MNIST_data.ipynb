{
 "cells": [
  {
   "cell_type": "code",
   "execution_count": 1,
   "id": "b126ba23",
   "metadata": {},
   "outputs": [],
   "source": [
    "import pickle\n",
    "import torch"
   ]
  },
  {
   "cell_type": "markdown",
   "id": "5499cf19",
   "metadata": {},
   "source": [
    "## Prepare data\n",
    "All four  \"training_\"  files contain the same data. They consist of sets of two 'MNIST' number pairs and correspoding sums of those two numbers.\n",
    "The four files are saved with different file extensions (.pt vs .pkl) or in different data types (dict vs tuple)."
   ]
  },
  {
   "cell_type": "markdown",
   "id": "0533b8d3",
   "metadata": {},
   "source": [
    "### About Data\n",
    "\n",
    "\n",
    "* num_pair - 두 숫자 이미지에 대한 텐서를 concat하여 각 pair에 대해 2x28x28 tensor를 만들어 stack한 것\n",
    "    - ex) tensor([  [[[ 1에 대한 28x28 pixel values ]], [[ 2에 대한 28x28 pixel values ]]],  ....  ]),  shape = (60000,2,28,28)\n",
    "* summation - 두 숫자의 합을 1차원 tensor로 만들어 놓은 것\n",
    "    - ex) tensor([3, 2, 5, .... ,7, 16, 18]),  shape=[60000]\n",
    "\n",
    "\n",
    "\n",
    "### Data files\n",
    "\n",
    "\n",
    "##### training data stored in tuple  \n",
    "    \n",
    "- training_data.pt \n",
    "\n",
    "    **.pt** 확장자, tuple 형식으로 (num_pair tensor, summation tensor) 를 저장해 놓은 것\n",
    "\n",
    "    다음을 통해서 data load 가능\n",
    "```\n",
    "data = torch.load(\"<PathToFile>/training_tuple.pt\")\n",
    "```\n",
    "\n",
    "- training_tuple.pkl \n",
    "\n",
    "    **.pkl** 확장자, tuple 형식으로 (num_pair tensor, summation tensor) 를 저장해 놓은 것\n",
    "\n",
    "    다음을 통해서 data load 가능\n",
    "```\n",
    "with open('<PathToFile>/training_tuple.pkl', 'rb') as f: \n",
    "    data = pickle.load(f)\n",
    "```\n",
    "\n",
    "#####  training data stored in dictionary\n",
    "\n",
    "- training_dict.pt \n",
    "\n",
    "    **.pt** 확장자, dictionary 형식으로 { \"num_pair\" = num_pair tensor, \"summation\" = summation tensor }, 를 저장해 놓은 것\n",
    "\n",
    "    다음을 통해서 data load 가능\n",
    "\n",
    "    ```\n",
    "    data = torch.load(\".<PathToFile>/training_dict.pt\")\n",
    "    ```\n",
    "\n",
    "- training_dict.pkl\n",
    "\n",
    "    **.pkl** 확장자, dictionary 형식으로 { \"num_pair\" = num_pair tensor, \"summation\" = summation tensor }, 를 저장해 놓은 것\n",
    "\n",
    "    다음을 통해서 data load 가능\n",
    "\n",
    "    ```\n",
    "    with open('<PathToFile>/training_tuple.pkl', 'rb') as f: \n",
    "        data = pickle.load(f)\n",
    "    ```\n",
    "\n",
    "##### test data stored in tuple\n",
    "\n",
    "- test.pt\n",
    "\n",
    "     **.pt** 확장자, tuple 형식으로 (num_pair tensor, summation tensor), 를 저장해 놓은 것\n",
    "\n",
    "    다음을 통해서 data load 가능\n",
    "\n",
    "    ```\n",
    "    data = torch.load(\".<PathToFile>/test.pt\")\n",
    "    ```\n",
    "- test.pkl\n",
    "\n",
    "    **.pkl** 확장자, tuple 형식으로 (num_pair tensor, summation tensor), 를 저장해 놓은 것\n",
    "\n",
    "    다음을 통해서 data load 가능\n",
    "\n",
    "    ```\n",
    "    with open('<PathToFile>/test.pkl', 'rb') as f: \n",
    "        data = pickle.load(f)\n",
    "    ```"
   ]
  },
  {
   "cell_type": "code",
   "execution_count": 2,
   "id": "ad1f8b45",
   "metadata": {},
   "outputs": [],
   "source": [
    "with open('./data/MNIST_pair/training_tuple.pkl', 'rb') as f:\n",
    "    data = pickle.load(f)\n",
    "\n",
    "with open('./data/MNIST_pair/training_dict.pkl', 'rb') as f:\n",
    "    data = pickle.load(f)\n",
    "    \n",
    "data = torch.load(\"./data/MNIST_pair/training_dict.pt\")\n",
    "\n",
    "data = torch.load(\"./data/MNIST_pair/training_tuple.pt\")"
   ]
  },
  {
   "cell_type": "code",
   "execution_count": 3,
   "id": "8d2005a9",
   "metadata": {},
   "outputs": [],
   "source": [
    "with open('./data/MNIST_pair/test.pkl', 'rb') as f:\n",
    "    test_data = pickle.load(f)\n",
    "\n",
    "test_data = torch.load(\"./data/MNIST_pair/test.pt\")"
   ]
  },
  {
   "cell_type": "code",
   "execution_count": null,
   "id": "e7ad5c68",
   "metadata": {},
   "outputs": [],
   "source": []
  }
 ],
 "metadata": {
  "kernelspec": {
   "display_name": "Python 3 (ipykernel)",
   "language": "python",
   "name": "python3"
  },
  "language_info": {
   "codemirror_mode": {
    "name": "ipython",
    "version": 3
   },
   "file_extension": ".py",
   "mimetype": "text/x-python",
   "name": "python",
   "nbconvert_exporter": "python",
   "pygments_lexer": "ipython3",
   "version": "3.8.16"
  }
 },
 "nbformat": 4,
 "nbformat_minor": 5
}
